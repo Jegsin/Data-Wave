{
 "cells": [
  {
   "cell_type": "code",
   "execution_count": 1,
   "id": "42656804",
   "metadata": {},
   "outputs": [
    {
     "ename": "SyntaxError",
     "evalue": "invalid syntax (Temp/ipykernel_14796/2259261209.py, line 7)",
     "output_type": "error",
     "traceback": [
      "\u001b[1;36m  File \u001b[1;32m\"C:\\Users\\NEWUSE~1\\AppData\\Local\\Temp/ipykernel_14796/2259261209.py\"\u001b[1;36m, line \u001b[1;32m7\u001b[0m\n\u001b[1;33m    elif amt\u001b[0m\n\u001b[1;37m             ^\u001b[0m\n\u001b[1;31mSyntaxError\u001b[0m\u001b[1;31m:\u001b[0m invalid syntax\n"
     ]
    }
   ],
   "source": [
    "print(\"welcome to Greep Supermarket! Kindly Place your Order\")\n",
    "\n",
    "price =int(input(\"Enter Amount: \"))\n",
    "if amt >500:\n",
    "    disc = amt*0.3\n",
    "elif amt >= range[200,300]:\n",
    "    disc = amt*0.2\n",
    "elif amt \n"
   ]
  },
  {
   "cell_type": "code",
   "execution_count": 8,
   "id": "cb7a24f6",
   "metadata": {},
   "outputs": [
    {
     "name": "stdout",
     "output_type": "stream",
     "text": [
      "Welcome to Greep Supermarket! Enter Sale Amount\n",
      "Enter Amount: -35\n",
      "Discount :  0\n",
      "Net Pay  :  -35\n"
     ]
    }
   ],
   "source": [
    "print(\"Welcome to Greep Supermarket! Enter Sale Amount\")\n",
    "\n",
    "price =int(input(\"Enter Amount: \"))\n",
    "if(price>0 or price<=0):\n",
    "    if price >300:\n",
    "        disc = price*0.3\n",
    "    elif price >=200 and price <=300:\n",
    "        disc = price*0.2\n",
    "    elif price >=100 and price <=200:\n",
    "        disc = price*0.1\n",
    "    elif price <100 and price >=0:\n",
    "        disc = price*0.05\n",
    "    elif price <=0:\n",
    "        disc = 0\n",
    "    \n",
    "    print(\"Discount : \",disc)\n",
    "    print(\"Net Pay  : \",price-disc)\n",
    "\n",
    "    \n",
    "\n",
    "\n"
   ]
  },
  {
   "cell_type": "code",
   "execution_count": 2,
   "id": "6566935f",
   "metadata": {},
   "outputs": [
    {
     "name": "stdout",
     "output_type": "stream",
     "text": [
      "Welcome to Greep Supermarket! Enter Sale Amount\n",
      "Enter Amount: 23\n"
     ]
    }
   ],
   "source": [
    "print(\"Welcome to Greep Supermarket! Enter Sale Amount\")\n",
    "price =int(input(\"Enter Amount: \"))\n",
    "\n",
    "def price(sale):\n",
    "    if sale >300:\n",
    "        return sale*0.3\n",
    "    if sale>=200 and sale<=300:\n",
    "        return sale*0.2"
   ]
  },
  {
   "cell_type": "code",
   "execution_count": null,
   "id": "7ed9be02",
   "metadata": {},
   "outputs": [],
   "source": []
  },
  {
   "cell_type": "code",
   "execution_count": null,
   "id": "7d292f59",
   "metadata": {},
   "outputs": [],
   "source": []
  }
 ],
 "metadata": {
  "kernelspec": {
   "display_name": "Python 3 (ipykernel)",
   "language": "python",
   "name": "python3"
  },
  "language_info": {
   "codemirror_mode": {
    "name": "ipython",
    "version": 3
   },
   "file_extension": ".py",
   "mimetype": "text/x-python",
   "name": "python",
   "nbconvert_exporter": "python",
   "pygments_lexer": "ipython3",
   "version": "3.9.7"
  }
 },
 "nbformat": 4,
 "nbformat_minor": 5
}
